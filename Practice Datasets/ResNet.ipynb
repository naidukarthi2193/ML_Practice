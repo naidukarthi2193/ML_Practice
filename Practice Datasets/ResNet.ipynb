{
 "cells": [
  {
   "cell_type": "code",
   "execution_count": 25,
   "metadata": {},
   "outputs": [],
   "source": [
    "import os\n",
    "from os import listdir, makedirs\n",
    "from os.path import join, exists, expanduser\n",
    "\n",
    "from keras import applications\n",
    "from keras.preprocessing.image import ImageDataGenerator\n",
    "from keras import optimizers\n",
    "from keras.models import Sequential, Model\n",
    "from keras.layers import Dense, GlobalAveragePooling2D\n",
    "from keras.layers import Activation, Dropout, Flatten, Dense\n",
    "from keras import backend as K\n",
    "import tensorflow as tf"
   ]
  },
  {
   "cell_type": "code",
   "execution_count": 26,
   "metadata": {},
   "outputs": [],
   "source": [
    "img_width, img_height = 224, 224"
   ]
  },
  {
   "cell_type": "code",
   "execution_count": 27,
   "metadata": {},
   "outputs": [],
   "source": [
    "train_data_dir = \"D:\\ML\\VehicalDataset\\VMMR3\"\n",
    "validation_data_dir = \"D:\\ML\\VehicalDataset\\VMMRval\"\n",
    "batch_size =20"
   ]
  },
  {
   "cell_type": "code",
   "execution_count": 28,
   "metadata": {},
   "outputs": [
    {
     "name": "stdout",
     "output_type": "stream",
     "text": [
      "Found 17243 images belonging to 38 classes.\n",
      "Found 7306 images belonging to 38 classes.\n"
     ]
    }
   ],
   "source": [
    "train_datagen = ImageDataGenerator(\n",
    "    rescale=1. / 255,\n",
    "    shear_range=0.2,\n",
    "    zoom_range=0.2,\n",
    "    horizontal_flip=True)\n",
    "\n",
    "test_datagen = ImageDataGenerator(rescale=1. / 255,\n",
    "    shear_range=0.2,\n",
    "    zoom_range=0.2,\n",
    "    horizontal_flip=True)\n",
    "\n",
    "train_generator = train_datagen.flow_from_directory(\n",
    "    train_data_dir,\n",
    "    target_size=(img_height, img_width),\n",
    "    batch_size=batch_size,\n",
    "    class_mode='categorical')\n",
    "\n",
    "validation_generator = test_datagen.flow_from_directory(\n",
    "    validation_data_dir,\n",
    "    target_size=(img_height, img_width),\n",
    "    batch_size=batch_size,\n",
    "    class_mode='categorical')"
   ]
  },
  {
   "cell_type": "code",
   "execution_count": 29,
   "metadata": {},
   "outputs": [],
   "source": [
    "nb_train_samples = 17243\n",
    "nb_validation_samples = 7306 "
   ]
  },
  {
   "cell_type": "code",
   "execution_count": 31,
   "metadata": {},
   "outputs": [
    {
     "name": "stderr",
     "output_type": "stream",
     "text": [
      "D:\\Anaconda\\lib\\site-packages\\keras_applications\\resnet50.py:265: UserWarning: The output shape of `ResNet50(include_top=False)` has been changed since Keras 2.2.0.\n",
      "  warnings.warn('The output shape of `ResNet50(include_top=False)` '\n"
     ]
    }
   ],
   "source": [
    "base = applications.ResNet50(weights='imagenet', include_top=False)\n",
    "x = base.output\n",
    "x = GlobalAveragePooling2D()(x)\n",
    "x = Dense(512, activation='relu')(x)\n",
    "predictions = Dense(38, activation='softmax')(x)\n",
    "transfer = Model(inputs=base.input, outputs=predictions)\n",
    "for layer in transfer.layers[:20]:\n",
    "    layer.trainable=False\n",
    "for layer in transfer.layers[20:]:\n",
    "    layer.trainable=True"
   ]
  },
  {
   "cell_type": "code",
   "execution_count": 32,
   "metadata": {},
   "outputs": [],
   "source": [
    "transfer.compile(loss='categorical_crossentropy',optimizer=optimizers.SGD(lr= 0.0001, momentum=0.9),\n",
    "              metrics=['accuracy'])"
   ]
  },
  {
   "cell_type": "code",
   "execution_count": 33,
   "metadata": {},
   "outputs": [
    {
     "name": "stdout",
     "output_type": "stream",
     "text": [
      "[name: \"/device:CPU:0\"\n",
      "device_type: \"CPU\"\n",
      "memory_limit: 268435456\n",
      "locality {\n",
      "}\n",
      "incarnation: 18002272409389767133\n",
      "]\n"
     ]
    }
   ],
   "source": [
    "from tensorflow.python.client import device_lib\n",
    "print(device_lib.list_local_devices())"
   ]
  },
  {
   "cell_type": "code",
   "execution_count": 34,
   "metadata": {},
   "outputs": [],
   "source": [
    "from datetime import datetime\n",
    "import keras.callbacks\n",
    "logdir=\"ResNetLogs\"\n",
    "tensorboard_callback = keras.callbacks.TensorBoard(log_dir=logdir)"
   ]
  },
  {
   "cell_type": "code",
   "execution_count": null,
   "metadata": {},
   "outputs": [
    {
     "name": "stdout",
     "output_type": "stream",
     "text": [
      "Epoch 1/10\n",
      "862/862 [==============================] - 6613s 8s/step - loss: 3.6467 - acc: 0.0462 - val_loss: 5.5989 - val_acc: 0.0236\n",
      "Epoch 2/10\n",
      "862/862 [==============================] - 6488s 8s/step - loss: 3.3853 - acc: 0.1115 - val_loss: 5.4721 - val_acc: 0.0264\n",
      "Epoch 3/10\n",
      "862/862 [==============================] - 6445s 7s/step - loss: 3.0776 - acc: 0.1961 - val_loss: 4.8309 - val_acc: 0.0280\n",
      "Epoch 4/10\n",
      "862/862 [==============================] - 6444s 7s/step - loss: 2.7673 - acc: 0.2782 - val_loss: 5.0246 - val_acc: 0.0276\n",
      "Epoch 5/10\n",
      "862/862 [==============================] - 6752s 8s/step - loss: 2.4841 - acc: 0.3427 - val_loss: 4.9658 - val_acc: 0.0270\n",
      "Epoch 6/10\n",
      "861/862 [============================>.] - ETA: 6s - loss: 2.2312 - acc: 0.4046 "
     ]
    }
   ],
   "source": [
    "import tensorflow as tf\n",
    "history_pretrained = transfer.fit_generator(train_generator,\n",
    "    epochs=10, shuffle = True, verbose = 1, \n",
    "    validation_data = validation_generator,steps_per_epoch=862,validation_steps=365)"
   ]
  },
  {
   "cell_type": "code",
   "execution_count": null,
   "metadata": {},
   "outputs": [],
   "source": []
  }
 ],
 "metadata": {
  "kernelspec": {
   "display_name": "Python 3",
   "language": "python",
   "name": "python3"
  },
  "language_info": {
   "codemirror_mode": {
    "name": "ipython",
    "version": 3
   },
   "file_extension": ".py",
   "mimetype": "text/x-python",
   "name": "python",
   "nbconvert_exporter": "python",
   "pygments_lexer": "ipython3",
   "version": "3.6.8"
  }
 },
 "nbformat": 4,
 "nbformat_minor": 2
}
